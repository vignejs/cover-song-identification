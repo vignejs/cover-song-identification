{
  "nbformat": 4,
  "nbformat_minor": 0,
  "metadata": {
    "accelerator": "GPU",
    "colab": {
      "name": "train.ipynb",
      "provenance": [],
      "collapsed_sections": [],
      "machine_shape": "hm",
      "include_colab_link": true
    },
    "kernelspec": {
      "display_name": "Python 3",
      "language": "python",
      "name": "python3"
    },
    "language_info": {
      "codemirror_mode": {
        "name": "ipython",
        "version": 3
      },
      "file_extension": ".py",
      "mimetype": "text/x-python",
      "name": "python",
      "nbconvert_exporter": "python",
      "pygments_lexer": "ipython3",
      "version": "3.7.6"
    }
  },
  "cells": [
    {
      "cell_type": "markdown",
      "metadata": {
        "id": "view-in-github",
        "colab_type": "text"
      },
      "source": [
        "<a href=\"https://colab.research.google.com/github/vignejs/cover-song-identification/blob/master/train.ipynb\" target=\"_parent\"><img src=\"https://colab.research.google.com/assets/colab-badge.svg\" alt=\"Open In Colab\"/></a>"
      ]
    },
    {
      "cell_type": "markdown",
      "metadata": {
        "id": "OL5hUmGqDQxA"
      },
      "source": [
        "# Siamese Convolutional Neural Network for Cover song identification"
      ]
    },
    {
      "cell_type": "code",
      "metadata": {
        "id": "2l5r3R07OXeS",
        "outputId": "9225d389-8e4d-41c1-8249-364abf0d1334",
        "colab": {
          "base_uri": "https://localhost:8080/",
          "height": 34
        }
      },
      "source": [
        "from google.colab import drive\n",
        "drive.mount('/content/drive', force_remount=True)"
      ],
      "execution_count": 1,
      "outputs": [
        {
          "output_type": "stream",
          "text": [
            "Mounted at /content/drive\n"
          ],
          "name": "stdout"
        }
      ]
    },
    {
      "cell_type": "code",
      "metadata": {
        "id": "q_g8hOPzW4Ju",
        "outputId": "0f073179-d5f6-4b08-cf0e-a44cf89b30b0",
        "colab": {
          "base_uri": "https://localhost:8080/",
          "height": 51
        }
      },
      "source": [
        "!pip install tensorflow-addons==0.9.1"
      ],
      "execution_count": 2,
      "outputs": [
        {
          "output_type": "stream",
          "text": [
            "Requirement already satisfied: tensorflow-addons==0.9.1 in /usr/local/lib/python3.6/dist-packages (0.9.1)\n",
            "Requirement already satisfied: typeguard>=2.7 in /usr/local/lib/python3.6/dist-packages (from tensorflow-addons==0.9.1) (2.7.1)\n"
          ],
          "name": "stdout"
        }
      ]
    },
    {
      "cell_type": "code",
      "metadata": {
        "id": "pkNC8_oi6bvp",
        "outputId": "5083225a-d107-4955-f639-978d39a99e44",
        "colab": {
          "base_uri": "https://localhost:8080/",
          "height": 190
        }
      },
      "source": [
        "import itertools\n",
        "import os\n",
        "import random\n",
        "import sys\n",
        "import warnings\n",
        "from pathlib import Path\n",
        "\n",
        "import matplotlib.pyplot as plt\n",
        "import numpy as np\n",
        "import pandas as pd\n",
        "import tensorflow as tf\n",
        "import tensorflow.keras.backend as K\n",
        "import tensorflow_addons as tfa\n",
        "from scipy import interpolate\n",
        "from tensorflow import keras\n",
        "from tensorflow.keras.callbacks import Callback, CSVLogger, ModelCheckpoint\n",
        "from tensorflow.keras.layers import (BatchNormalization, Conv2D, Dense,\n",
        "                                     Dropout, Flatten, Input, Lambda, Layer,\n",
        "                                     MaxPooling2D, ReLU)\n",
        "from tensorflow.keras.models import Model, Sequential, load_model\n",
        "from tensorflow.python.framework.ops import Tensor\n",
        "\n",
        "warnings.filterwarnings(\"ignore\")\n",
        "tf.get_logger().setLevel('ERROR')\n",
        "print(\"Tensorflow version \" + tf.__version__)"
      ],
      "execution_count": 3,
      "outputs": [
        {
          "output_type": "stream",
          "text": [
            "Tensorflow version 2.3.0\n"
          ],
          "name": "stdout"
        },
        {
          "output_type": "stream",
          "text": [
            "/usr/local/lib/python3.6/dist-packages/tensorflow_addons/utils/ensure_tf_install.py:68: UserWarning: Tensorflow Addons supports using Python ops for all Tensorflow versions above or equal to 2.1.0 and strictly below 2.3.0 (nightly versions are not supported). \n",
            " The versions of TensorFlow you are currently using is 2.3.0 and is not supported. \n",
            "Some things might work, some things might not.\n",
            "If you were to encounter a bug, do not file an issue.\n",
            "If you want to make sure you're using a tested and supported configuration, either change the TensorFlow version or the TensorFlow Addons's version. \n",
            "You can find the compatibility matrix in TensorFlow Addon's readme:\n",
            "https://github.com/tensorflow/addons\n",
            "  UserWarning,\n"
          ],
          "name": "stderr"
        }
      ]
    },
    {
      "cell_type": "markdown",
      "metadata": {
        "id": "eBkVghK34gJ8"
      },
      "source": [
        "### Load data"
      ]
    },
    {
      "cell_type": "code",
      "metadata": {
        "id": "P-49-RYS8Yf2"
      },
      "source": [
        "feature_type = \"crema\"\n",
        "spect_len = 500\n",
        "\n",
        "IN_COLAB = 'google.colab' in sys.modules\n",
        "if IN_COLAB:\n",
        "    root = Path(\"/content/drive/My Drive/cosoid\")\n",
        "else:\n",
        "    root = Path.cwd()\n",
        "\n",
        "traindf = pd.HDFStore(root / 'datasets' / 'trainset.h5').select(feature_type)\n",
        "valdf = pd.HDFStore(root / 'datasets' / 'valset.h5').select(feature_type)"
      ],
      "execution_count": 4,
      "outputs": []
    },
    {
      "cell_type": "code",
      "metadata": {
        "id": "9hjkyCCmZFiP"
      },
      "source": [
        "traindf = traindf.groupby(by='work_id').filter(lambda x: len(x) == 13 * 12)"
      ],
      "execution_count": 5,
      "outputs": []
    },
    {
      "cell_type": "code",
      "metadata": {
        "id": "e2TkPmCKLu5e"
      },
      "source": [
        "train = traindf.values.reshape(1000, 13, 12, 500)\n",
        "val = valdf.values.reshape(5000, 2, 12, 500)"
      ],
      "execution_count": 6,
      "outputs": []
    },
    {
      "cell_type": "code",
      "metadata": {
        "id": "vkXHxtz3_51F"
      },
      "source": [
        "def gen_indexes(w_shape, p_shape):\n",
        "    \"\"\"generates combination of pair of indices for siamese input\n",
        "        w_shape: no of works\n",
        "        p_shape: no of performances\n",
        "    \"\"\"\n",
        "    indexes = list()\n",
        "    \n",
        "    p = list(itertools.permutations(range(p_shape), 2))\n",
        "    \n",
        "    r = range(w_shape)\n",
        "    for i in range(w_shape):\n",
        "        np.random.seed(0)\n",
        "        rand = np.random.choice([x for x in r if x != i], size=len(p), replace=False)\n",
        "        for j, (x, y) in enumerate(p):\n",
        "            indexes.append([(i,x), (i,y)])\n",
        "            indexes.append([(i, x), (rand[j], y)])\n",
        "            \n",
        "    return indexes"
      ],
      "execution_count": 7,
      "outputs": []
    },
    {
      "cell_type": "code",
      "metadata": {
        "id": "_NRuy6ztFO_r"
      },
      "source": [
        "indexes_train = gen_indexes(1000, 13)\n",
        "indexes_val = gen_indexes(5000, 2)"
      ],
      "execution_count": 8,
      "outputs": []
    },
    {
      "cell_type": "markdown",
      "metadata": {
        "id": "DqJnq6vm4xau"
      },
      "source": [
        "### Using keras.seqential"
      ]
    },
    {
      "cell_type": "code",
      "metadata": {
        "id": "d9sEzrGN4tLf"
      },
      "source": [
        "class DataGenerator(tf.keras.utils.Sequence):\n",
        "    '''Generates data for Keras'''\n",
        "    def __init__(self, data, indexes, batch_size=100, dim=(12, 1000), n_channels=1, shuffle=False, train=False):\n",
        "        '''Initialization'''\n",
        "        self.dim = dim\n",
        "        self.data = data\n",
        "        self.train = train\n",
        "        self.n_channels = n_channels\n",
        "        self.batch_size = batch_size\n",
        "        self.indexes = indexes    \n",
        "        self.shuffle = shuffle\n",
        "        self.on_epoch_end()\n",
        "\n",
        "    def __len__(self):\n",
        "        '''Denotes the number of batches per epoch'''\n",
        "        return int(np.floor(len(self.indexes) / self.batch_size / 4)) \n",
        "\n",
        "    def __getitem__(self, index):\n",
        "        '''Generate one batch of data'''\n",
        "        # Generate indexes of the batch\n",
        "        indexes = self.indexes[index*self.batch_size:(index+1)*self.batch_size]\n",
        "\n",
        "        # return data\n",
        "        return self.__data_generation(indexes)\n",
        "\n",
        "    def on_epoch_end(self):\n",
        "        '''Updates indexes after each epoch'''\n",
        "        if self.shuffle:\n",
        "            np.random.shuffle(self.indexes)   \n",
        "    \n",
        "    def __data_augmentor(self, aug):\n",
        "\n",
        "        hg = aug.shape[0]\n",
        "        wd = aug.shape[1]\n",
        "        \n",
        "        # time shift\n",
        "        rng = int(np.random.normal() * wd)\n",
        "        aug = np.roll(aug, rng, axis=1)\n",
        "\n",
        "        # chroma transposition\n",
        "        rng = int(np.random.normal() * hg)\n",
        "        aug = np.roll(aug, rng, axis=0)\n",
        "        \n",
        "        times = np.arange(0, wd)\n",
        "        func = interpolate.interp1d(times, aug, kind='nearest', fill_value='extrapolate')\n",
        "            \n",
        "        # time stretch\n",
        "        if np.random.uniform() < 0.3:\n",
        "            rng = 1 + np.random.normal()  # random number to determine the factor of time stretching\n",
        "\n",
        "            if 0.7 <= rng <= 1.3:\n",
        "                times = np.linspace(0, wd - 1, int(wd * rng))\n",
        "                aug = func(times)  # applying time stretching\n",
        "                \n",
        "        # time warping \n",
        "        if np.random.uniform() < 0.3:\n",
        "            rng = np.random.uniform()  # random number to determine which operation to apply for time warping\n",
        "\n",
        "            if rng < 0.3:  # silence\n",
        "                # each frame has a probability of 0.1 to be silenced\n",
        "                silence_idxs = np.random.choice([False, True], size=times.size, p=[.9, .1])\n",
        "                aug[:, silence_idxs] = np.zeros((hg, 1))\n",
        "\n",
        "            elif rng < 0.7:  # duplicate\n",
        "                # each frame has a probability of 0.15 to be duplicated\n",
        "                duplicate_idxs = np.random.choice([False, True], size=times.size, p=[.85, .15])\n",
        "                times = np.sort(np.concatenate((times, times[duplicate_idxs])))\n",
        "                aug = func(times)\n",
        "\n",
        "            else:  # remove\n",
        "                # each frame has a probability of 0.1 to be removed\n",
        "                remaining_idxs = np.random.choice([False, True], size=times.size, p=[.1, .9])\n",
        "                times = times[remaining_idxs]\n",
        "                aug = func(times)\n",
        "\n",
        "        \n",
        "        if aug.shape[1] > wd:\n",
        "            aug = aug[:, :wd]\n",
        "        else:\n",
        "            aug = np.pad(aug, ((0, 0), (0, wd - aug.shape[1])), 'wrap')   \n",
        "\n",
        "        return aug\n",
        "    \n",
        "    def _data_augmentor(self, a):\n",
        "        if self.train:\n",
        "            return self.__data_augmentor(a)\n",
        "        else:\n",
        "            return a   \n",
        "\n",
        "    def __data_generation(self, indexes):\n",
        "        '''Generates data containing batch_size samples''' # X : (n_samples, *dim, n_channels)\n",
        "        # Initialization\n",
        "        X1 = np.empty((self.batch_size, *self.dim, self.n_channels), dtype=np.float32)\n",
        "        X2 = np.empty((self.batch_size, *self.dim, self.n_channels), dtype=np.float32)\n",
        "        Y = np.empty((self.batch_size, 1), dtype=np.int)\n",
        "\n",
        "        # Generate data\n",
        "        for i, (x, y) in enumerate(indexes):\n",
        "            # sample a sample\n",
        "            r1 = self.data[x]\n",
        "            r2 = self.data[y]\n",
        "\n",
        "            r1 = np.tile(r1, (2, 1))[:-1]\n",
        "            r2 = np.tile(r2, (2, 1))[:-1]\n",
        "\n",
        "            # augment sample\n",
        "            if np.random.uniform() < 0.5:\n",
        "                r1 = self._data_augmentor(r1)\n",
        "            else:\n",
        "                r2 = self._data_augmentor(r2)\n",
        "\n",
        "            # store sample\n",
        "            X1[i, ] = r1.reshape(*self.dim, self.n_channels)\n",
        "            X2[i, ] = r2.reshape(*self.dim, self.n_channels)\n",
        "\n",
        "            # store label\n",
        "            if x[0] == y[0]:\n",
        "                Y[i, ] = [0]\n",
        "            else:\n",
        "                Y[i, ] = [1]     \n",
        "\n",
        "        return [X1, X2], Y"
      ],
      "execution_count": 9,
      "outputs": []
    },
    {
      "cell_type": "code",
      "metadata": {
        "id": "SoHHfyFAKHCW"
      },
      "source": [
        "# Parameters\n",
        "params = {'dim': (23, spect_len),\n",
        "          'batch_size': 128,\n",
        "          'n_channels': 1,\n",
        "          'shuffle': True}\n",
        "\n",
        "training_generator = DataGenerator(train, indexes_train, **params, train=True)\n",
        "validation_generator = DataGenerator(val, indexes_val, **params)\n",
        "\n",
        "def tr_generator():\n",
        "    multi_enqueuer = tf.keras.utils.OrderedEnqueuer(training_generator, use_multiprocessing=True, shuffle=False)\n",
        "    multi_enqueuer.start(workers=4, max_queue_size=5)\n",
        "    while True:\n",
        "        yield next(multi_enqueuer.get())\n",
        "\n",
        "def va_generator():\n",
        "    multi_enqueuer = tf.keras.utils.OrderedEnqueuer(validation_generator, use_multiprocessing=True, shuffle=False)\n",
        "    multi_enqueuer.start(workers=4, max_queue_size=5)\n",
        "    while True:\n",
        "        yield next(multi_enqueuer.get())\n",
        "\n",
        "\n",
        "training_dataset = tr_generator()\n",
        "validation_dataset = va_generator()"
      ],
      "execution_count": 10,
      "outputs": []
    },
    {
      "cell_type": "markdown",
      "metadata": {
        "id": "duECInUZt758"
      },
      "source": [
        "### Siamese Architecture"
      ]
    },
    {
      "cell_type": "code",
      "metadata": {
        "id": "Fe2BSM1cC1he"
      },
      "source": [
        "# Initializers\n",
        "def W_init(shape, dtype=None):\n",
        "    \"\"\"Initialize weights\"\"\"\n",
        "    values = np.random.normal(loc=0, scale=1e-2, size=shape)\n",
        "    return K.variable(values, dtype=dtype)\n",
        "\n",
        "def W_init_dense(shape, dtype=None):\n",
        "    \"\"\"Initialize weights\"\"\"\n",
        "    values = np.random.normal(loc=0, scale=2e-1, size=shape)\n",
        "    return K.variable(values, dtype=dtype)\n",
        " \n",
        "def b_init(shape, dtype=None):\n",
        "    \"\"\"Initialize bias\"\"\"\n",
        "    values = np.random.normal(loc=0.5, scale=1e-2, size=shape)\n",
        "    return K.variable(values, dtype=dtype)"
      ],
      "execution_count": 11,
      "outputs": []
    },
    {
      "cell_type": "code",
      "metadata": {
        "id": "52JINqUwDpar",
        "outputId": "d4193499-971a-4ebc-ef64-39aecb2918c2",
        "colab": {
          "base_uri": "https://localhost:8080/",
          "height": 1000
        }
      },
      "source": [
        "def create_base_network(input_shape):\n",
        "    model = Sequential()\n",
        "    model.add(Conv2D(32, (12, 50), input_shape=input_shape, kernel_initializer=W_init, bias_initializer=b_init))\n",
        "    model.add(ReLU())\n",
        "    model.add(MaxPooling2D(pool_size=(12, 1)))\n",
        "    model.add(BatchNormalization())\n",
        "\n",
        "    model.add(Conv2D(32, (1, 5), dilation_rate=(1, 1), kernel_initializer=W_init, bias_initializer=b_init))\n",
        "    model.add(Conv2D(64, (1, 5), dilation_rate=(1, 20), kernel_initializer=W_init, bias_initializer=b_init))\n",
        "    model.add(ReLU())\n",
        "    model.add(BatchNormalization())\n",
        "\n",
        "    model.add(Conv2D(32, (1, 5), dilation_rate=(1, 1), kernel_initializer=W_init, bias_initializer=b_init))\n",
        "    model.add(Conv2D(64, (1, 5), dilation_rate=(1, 13), kernel_initializer=W_init, bias_initializer=b_init))\n",
        "    model.add(ReLU())\n",
        "    model.add(BatchNormalization())\n",
        "\n",
        "    model.add(Conv2D(32, (1, 5), dilation_rate=(1, 1), kernel_initializer=W_init, bias_initializer=b_init))\n",
        "    model.add(Conv2D(64, (1, 5), dilation_rate=(1, 7), kernel_initializer=W_init, bias_initializer=b_init))\n",
        "    model.add(ReLU())\n",
        "    model.add(BatchNormalization())\n",
        "\n",
        "    model.add(Flatten())\n",
        "    model.add(Dropout(0.1))\n",
        "    model.add(Dense(512, activation='sigmoid', kernel_initializer=W_init_dense, bias_initializer=b_init))\n",
        "    print(model.summary())\n",
        "\n",
        "    return model\n",
        "\n",
        "def create_twin():\n",
        "    input_shape = (23, spect_len, 1)\n",
        "    original_input = Input(shape=input_shape, name=\"input_1\")\n",
        "    cover_input = Input(shape=input_shape, name=\"input_2\")\n",
        "    model = create_base_network(input_shape)\n",
        "    original_model = model(original_input)\n",
        "    cover_model = model(cover_input)\n",
        "\n",
        "    L1_layer = Lambda(lambda tensors:K.abs(tensors[0] - tensors[1]))\n",
        "    L1_distance = L1_layer([original_model, cover_model])\n",
        "\n",
        "    output = Dense(1, activation='sigmoid')(L1_distance)\n",
        "\n",
        "    model = Model(inputs=[original_input, cover_input], outputs=[output])\n",
        "\n",
        "    return model\n",
        "\n",
        "model = create_twin()\n",
        "best_weights_file = \"{}/weights/weights.best-{:.2e}.hdf5\".format(root, model.count_params())\n",
        "\n",
        "opt = tf.keras.optimizers.Adam(learning_rate=0.001)\n",
        "opt = tfa.optimizers.Lookahead(opt)\n",
        "contrastive_loss = tfa.losses.ContrastiveLoss()\n",
        "\n",
        "custom_objects = {\"W_init\": W_init,\n",
        "                  \"W_init_dense\": W_init_dense,\n",
        "                  \"b_init\": b_init}\n",
        "\n",
        "# model = load_model(best_weights_file, custom_objects=custom_objects)\n",
        "model.compile(loss=\"binary_crossentropy\", optimizer=opt, metrics=['accuracy'])\n",
        "print(model.summary())"
      ],
      "execution_count": 12,
      "outputs": [
        {
          "output_type": "stream",
          "text": [
            "Model: \"sequential\"\n",
            "_________________________________________________________________\n",
            "Layer (type)                 Output Shape              Param #   \n",
            "=================================================================\n",
            "conv2d (Conv2D)              (None, 12, 451, 32)       19232     \n",
            "_________________________________________________________________\n",
            "re_lu (ReLU)                 (None, 12, 451, 32)       0         \n",
            "_________________________________________________________________\n",
            "max_pooling2d (MaxPooling2D) (None, 1, 451, 32)        0         \n",
            "_________________________________________________________________\n",
            "batch_normalization (BatchNo (None, 1, 451, 32)        128       \n",
            "_________________________________________________________________\n",
            "conv2d_1 (Conv2D)            (None, 1, 447, 32)        5152      \n",
            "_________________________________________________________________\n",
            "conv2d_2 (Conv2D)            (None, 1, 367, 64)        10304     \n",
            "_________________________________________________________________\n",
            "re_lu_1 (ReLU)               (None, 1, 367, 64)        0         \n",
            "_________________________________________________________________\n",
            "batch_normalization_1 (Batch (None, 1, 367, 64)        256       \n",
            "_________________________________________________________________\n",
            "conv2d_3 (Conv2D)            (None, 1, 363, 32)        10272     \n",
            "_________________________________________________________________\n",
            "conv2d_4 (Conv2D)            (None, 1, 311, 64)        10304     \n",
            "_________________________________________________________________\n",
            "re_lu_2 (ReLU)               (None, 1, 311, 64)        0         \n",
            "_________________________________________________________________\n",
            "batch_normalization_2 (Batch (None, 1, 311, 64)        256       \n",
            "_________________________________________________________________\n",
            "conv2d_5 (Conv2D)            (None, 1, 307, 32)        10272     \n",
            "_________________________________________________________________\n",
            "conv2d_6 (Conv2D)            (None, 1, 279, 64)        10304     \n",
            "_________________________________________________________________\n",
            "re_lu_3 (ReLU)               (None, 1, 279, 64)        0         \n",
            "_________________________________________________________________\n",
            "batch_normalization_3 (Batch (None, 1, 279, 64)        256       \n",
            "_________________________________________________________________\n",
            "flatten (Flatten)            (None, 17856)             0         \n",
            "_________________________________________________________________\n",
            "dropout (Dropout)            (None, 17856)             0         \n",
            "_________________________________________________________________\n",
            "dense (Dense)                (None, 512)               9142784   \n",
            "=================================================================\n",
            "Total params: 9,219,520\n",
            "Trainable params: 9,219,072\n",
            "Non-trainable params: 448\n",
            "_________________________________________________________________\n",
            "None\n",
            "Model: \"functional_1\"\n",
            "__________________________________________________________________________________________________\n",
            "Layer (type)                    Output Shape         Param #     Connected to                     \n",
            "==================================================================================================\n",
            "input_1 (InputLayer)            [(None, 23, 500, 1)] 0                                            \n",
            "__________________________________________________________________________________________________\n",
            "input_2 (InputLayer)            [(None, 23, 500, 1)] 0                                            \n",
            "__________________________________________________________________________________________________\n",
            "sequential (Sequential)         (None, 512)          9219520     input_1[0][0]                    \n",
            "                                                                 input_2[0][0]                    \n",
            "__________________________________________________________________________________________________\n",
            "lambda (Lambda)                 (None, 512)          0           sequential[0][0]                 \n",
            "                                                                 sequential[1][0]                 \n",
            "__________________________________________________________________________________________________\n",
            "dense_1 (Dense)                 (None, 1)            513         lambda[0][0]                     \n",
            "==================================================================================================\n",
            "Total params: 9,220,033\n",
            "Trainable params: 9,219,585\n",
            "Non-trainable params: 448\n",
            "__________________________________________________________________________________________________\n",
            "None\n"
          ],
          "name": "stdout"
        }
      ]
    },
    {
      "cell_type": "markdown",
      "metadata": {
        "id": "CEIEPmuYuDEy"
      },
      "source": [
        "### Training"
      ]
    },
    {
      "cell_type": "code",
      "metadata": {
        "id": "FNnyMuVRKJDO"
      },
      "source": [
        "checkpoint = ModelCheckpoint(best_weights_file, monitor='val_loss', verbose=1, save_best_only=True, mode='min')\n",
        "\n",
        "csv_logger = CSVLogger(f\"{root}/logs/training-{model.count_params():.2e}.csv\", append=False)\n",
        "\n",
        "def get_lr_callback():\n",
        "    lr_start   = 0.00005\n",
        "    lr_max     = 0.0001\n",
        "    lr_min     = 0.000001\n",
        "    lr_ramp_ep = 5\n",
        "    lr_sus_ep  = 0\n",
        "    lr_decay   = 0.95\n",
        "   \n",
        "    def lrfn(epoch):\n",
        "        if epoch < lr_ramp_ep:\n",
        "            lr = (lr_max - lr_start) / lr_ramp_ep * epoch + lr_start\n",
        "            \n",
        "        elif epoch < lr_ramp_ep + lr_sus_ep:\n",
        "            lr = lr_max\n",
        "            \n",
        "        else:\n",
        "            lr = (lr_max - lr_min) * lr_decay**(epoch - lr_ramp_ep - lr_sus_ep) + lr_min\n",
        "            \n",
        "        return lr\n",
        "\n",
        "    lr_callback = tf.keras.callbacks.LearningRateScheduler(lrfn, verbose=False)\n",
        "    return lr_callback\n",
        "\n",
        "lr_schedule = get_lr_callback()\n",
        "\n",
        "callbacks = [checkpoint, lr_schedule, csv_logger]"
      ],
      "execution_count": 13,
      "outputs": []
    },
    {
      "cell_type": "code",
      "metadata": {
        "id": "Lvk3bfpCq8ya",
        "scrolled": true
      },
      "source": [
        "# Train model on dataset (sequence)\n",
        "history = model.fit(training_dataset,\n",
        "                    validation_data=validation_dataset,\n",
        "                    steps_per_epoch=len(training_generator),\n",
        "                    validation_steps=len(validation_generator),\n",
        "                    use_multiprocessing=False,\n",
        "                    workers=1,\n",
        "                    verbose=1,\n",
        "                    callbacks=callbacks,\n",
        "                    epochs=100)"
      ],
      "execution_count": null,
      "outputs": []
    },
    {
      "cell_type": "code",
      "metadata": {
        "id": "-ub6x30OnGRC",
        "outputId": "49d03d1f-a611-42a5-d3bd-29c76602804d",
        "colab": {
          "base_uri": "https://localhost:8080/",
          "height": 336
        }
      },
      "source": [
        "accuracy = history.history['accuracy']\n",
        "val_accuracy = history.history['val_accuracy']\n",
        "\n",
        "loss = history.history['loss']\n",
        "val_loss = history.history['val_loss']\n",
        "\n",
        "epochs = range(len(accuracy))\n",
        "fig = plt.figure(figsize=(20, 5))\n",
        "plt.subplot(121)\n",
        "x = np.argmax( history.history['val_accuracy'] )\n",
        "y = np.max( history.history['val_accuracy'] )\n",
        "xdist = plt.xlim()[1] - plt.xlim()[0]\n",
        "ydist = plt.ylim()[1] - plt.ylim()[0]\n",
        "plt.text(x-0.03*xdist,y-0.13*ydist,'max accuracy\\n%.4f'%y,size=14)\n",
        "plt.plot(epochs, accuracy, 'b', label='Training accuracy')\n",
        "plt.plot(epochs, val_accuracy, 'r', label='Validation accuracy')\n",
        "plt.title('Training and validation accuracy')\n",
        "plt.legend()\n",
        "\n",
        "plt.subplot(122)\n",
        "x = np.argmin( history.history['val_loss'] )\n",
        "y = np.max( history.history['val_loss'] )\n",
        "xdist = plt.xlim()[1] - plt.xlim()[0]\n",
        "ydist = plt.ylim()[1] - plt.ylim()[0]\n",
        "plt.text(x-0.03*xdist,y-0.13*ydist,'min loss\\n%.4f'%y,size=14)\n",
        "plt.plot(epochs, loss, 'b', label='Training loss')\n",
        "plt.plot(epochs, val_loss, 'r', label='Validation loss')\n",
        "plt.title('Training and validation loss')\n",
        "plt.legend()\n",
        "plt.show()"
      ],
      "execution_count": 24,
      "outputs": [
        {
          "output_type": "display_data",
          "data": {
            "image/png": "[encoded data removed]",
            "text/plain": [
              "<Figure size 1440x360 with 2 Axes>"
            ]
          },
          "metadata": {
            "tags": [],
            "needs_background": "light"
          }
        }
      ]
    }
  ]
}